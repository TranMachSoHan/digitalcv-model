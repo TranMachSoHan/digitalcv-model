{
 "cells": [
  {
   "cell_type": "code",
   "execution_count": 209,
   "metadata": {
    "id": "pAUbBYoxAocm"
   },
   "outputs": [],
   "source": [
    "# importing the libraries\n",
    "\n",
    "import numpy as np\n",
    "import pandas as pd\n",
    "\n",
    "import matplotlib.pyplot as plt\n",
    "import seaborn as sns"
   ]
  },
  {
   "cell_type": "markdown",
   "metadata": {
    "id": "HMyLe_us-ZfZ"
   },
   "source": [
    "# Read CSV and Create empty dataframe "
   ]
  },
  {
   "cell_type": "code",
   "execution_count": 210,
   "metadata": {
    "colab": {
     "base_uri": "https://localhost:8080/"
    },
    "id": "3AE6eqZW7SJz",
    "outputId": "e0292a4d-7f93-4bd0-d7c8-e05a75a8d89d"
   },
   "outputs": [
    {
     "name": "stdout",
     "output_type": "stream",
     "text": [
      "Shape of coursera reviews (3522, 7)\n",
      "Shape of udacity reviews (263, 6)\n",
      "Shape of udemy business reviews (9970, 7)\n",
      "Shape of udemy IT Software reviews (22853, 7)\n",
      "Shape of udemy tech (9964, 7)\n"
     ]
    }
   ],
   "source": [
    "# reading the data\n",
    "\n",
    "coursera = pd.read_csv('./Coursera.csv')\n",
    "udacity = pd.read_csv('./Udacity.csv')\n",
    "udemyCourses = pd.read_csv('./udemy_courses.csv')\n",
    "udemyBusiness = pd.read_csv('./udemy_business.csv')\n",
    "udemyITSoftware = pd.read_csv('./udemy_output_All_IT__Software_p1_p626.csv')\n",
    "udemyTech = pd.read_csv('./udemy_tech.csv')\n",
    "\n",
    "# getting the shape\n",
    "print(\"Shape of coursera reviews\", coursera.shape)\n",
    "print(\"Shape of udacity reviews\", udacity.shape)\n",
    "print(\"Shape of udemy business reviews\", udemyBusiness.shape)\n",
    "print(\"Shape of udemy IT Software reviews\", udemyITSoftware.shape)\n",
    "print(\"Shape of udemy tech\", udemyTech.shape)"
   ]
  },
  {
   "cell_type": "code",
   "execution_count": 211,
   "metadata": {
    "colab": {
     "base_uri": "https://localhost:8080/"
    },
    "id": "pdoJKRIg-X1H",
    "outputId": "0cada2ef-a810-4e40-a9f9-b5357191855f"
   },
   "outputs": [
    {
     "name": "stdout",
     "output_type": "stream",
     "text": [
      "Empty DataFrame\n",
      "Columns: [CourseName, CourseDescription, Competencies, DifficultyLevel, CourseRating, UrlLink]\n",
      "Index: []\n"
     ]
    }
   ],
   "source": [
    "# create an Empty DataFrame\n",
    "# object With column names only\n",
    "final_df = pd.DataFrame(columns = ['CourseName', 'CourseDescription', 'Competencies', 'DifficultyLevel', 'CourseRating', 'UrlLink'])\n",
    "print(final_df)"
   ]
  },
  {
   "cell_type": "markdown",
   "metadata": {
    "id": "SM75-f0j8iNx"
   },
   "source": [
    "# View Coursera CSV file "
   ]
  },
  {
   "cell_type": "code",
   "execution_count": 212,
   "metadata": {
    "colab": {
     "base_uri": "https://localhost:8080/",
     "height": 208
    },
    "id": "sJVwovvcDps4",
    "outputId": "a61b2a50-5ec3-45cd-d303-c9e3fbc3e91c"
   },
   "outputs": [
    {
     "data": {
      "text/html": [
       "<div>\n",
       "<style scoped>\n",
       "    .dataframe tbody tr th:only-of-type {\n",
       "        vertical-align: middle;\n",
       "    }\n",
       "\n",
       "    .dataframe tbody tr th {\n",
       "        vertical-align: top;\n",
       "    }\n",
       "\n",
       "    .dataframe thead th {\n",
       "        text-align: right;\n",
       "    }\n",
       "</style>\n",
       "<table border=\"1\" class=\"dataframe\">\n",
       "  <thead>\n",
       "    <tr style=\"text-align: right;\">\n",
       "      <th></th>\n",
       "      <th>Course Name</th>\n",
       "      <th>University</th>\n",
       "      <th>Difficulty Level</th>\n",
       "      <th>Course Rating</th>\n",
       "      <th>Course URL</th>\n",
       "      <th>Course Description</th>\n",
       "      <th>Skills</th>\n",
       "    </tr>\n",
       "  </thead>\n",
       "  <tbody>\n",
       "    <tr>\n",
       "      <th>0</th>\n",
       "      <td>Write A Feature Length Screenplay For Film Or ...</td>\n",
       "      <td>Michigan State University</td>\n",
       "      <td>Beginner</td>\n",
       "      <td>4.8</td>\n",
       "      <td>https://www.coursera.org/learn/write-a-feature...</td>\n",
       "      <td>Write a Full Length Feature Film Script  In th...</td>\n",
       "      <td>Drama  Comedy  peering  screenwriting  film  D...</td>\n",
       "    </tr>\n",
       "    <tr>\n",
       "      <th>1</th>\n",
       "      <td>Business Strategy: Business Model Canvas Analy...</td>\n",
       "      <td>Coursera Project Network</td>\n",
       "      <td>Beginner</td>\n",
       "      <td>4.8</td>\n",
       "      <td>https://www.coursera.org/learn/canvas-analysis...</td>\n",
       "      <td>By the end of this guided project, you will be...</td>\n",
       "      <td>Finance  business plan  persona (user experien...</td>\n",
       "    </tr>\n",
       "  </tbody>\n",
       "</table>\n",
       "</div>"
      ],
      "text/plain": [
       "                                         Course Name  \\\n",
       "0  Write A Feature Length Screenplay For Film Or ...   \n",
       "1  Business Strategy: Business Model Canvas Analy...   \n",
       "\n",
       "                  University Difficulty Level Course Rating  \\\n",
       "0  Michigan State University         Beginner           4.8   \n",
       "1   Coursera Project Network         Beginner           4.8   \n",
       "\n",
       "                                          Course URL  \\\n",
       "0  https://www.coursera.org/learn/write-a-feature...   \n",
       "1  https://www.coursera.org/learn/canvas-analysis...   \n",
       "\n",
       "                                  Course Description  \\\n",
       "0  Write a Full Length Feature Film Script  In th...   \n",
       "1  By the end of this guided project, you will be...   \n",
       "\n",
       "                                              Skills  \n",
       "0  Drama  Comedy  peering  screenwriting  film  D...  \n",
       "1  Finance  business plan  persona (user experien...  "
      ]
     },
     "execution_count": 212,
     "metadata": {},
     "output_type": "execute_result"
    }
   ],
   "source": [
    "coursera.head(2)"
   ]
  },
  {
   "cell_type": "code",
   "execution_count": 213,
   "metadata": {
    "colab": {
     "base_uri": "https://localhost:8080/"
    },
    "id": "G6kEULGL8CLJ",
    "outputId": "42dae720-5e5a-4d78-c70a-7113188d1cb0"
   },
   "outputs": [
    {
     "data": {
      "text/plain": [
       "Course Name           object\n",
       "University            object\n",
       "Difficulty Level      object\n",
       "Course Rating         object\n",
       "Course URL            object\n",
       "Course Description    object\n",
       "Skills                object\n",
       "dtype: object"
      ]
     },
     "execution_count": 213,
     "metadata": {},
     "output_type": "execute_result"
    }
   ],
   "source": [
    "coursera.dtypes"
   ]
  },
  {
   "cell_type": "code",
   "execution_count": 214,
   "metadata": {
    "id": "Mvleqc9n-R11"
   },
   "outputs": [],
   "source": [
    "coursera.rename(columns={'Course Name': 'CourseName',\n",
    "                 'Difficulty Level': 'DifficultyLevel',\n",
    "                 'Course Rating': 'CourseRating',\n",
    "                 'Course URL': 'UrlLink',\n",
    "                 'Course Description': 'CourseDescription',\n",
    "                 'Skills': 'Competencies', }, inplace=True)\n",
    "coursera=coursera.drop(['University'], axis=1)"
   ]
  },
  {
   "cell_type": "code",
   "execution_count": 215,
   "metadata": {
    "id": "7o76Grf6AG0P"
   },
   "outputs": [],
   "source": [
    "final_df = pd.concat([final_df, coursera])\n",
    "final_df.reset_index(inplace=True, drop=True)"
   ]
  },
  {
   "cell_type": "code",
   "execution_count": 216,
   "metadata": {
    "colab": {
     "base_uri": "https://localhost:8080/"
    },
    "id": "X1Q9hWpMfJYk",
    "outputId": "f9961c58-c4a2-4f5d-c602-08ce95f9d96d"
   },
   "outputs": [
    {
     "name": "stdout",
     "output_type": "stream",
     "text": [
      "Length of final df is:  3522  rows\n"
     ]
    }
   ],
   "source": [
    "print(\"Length of final df is: \", len(final_df), \" rows\")"
   ]
  },
  {
   "cell_type": "markdown",
   "metadata": {
    "id": "hRhyVzObD6n5"
   },
   "source": [
    "# View Udacity CSV file "
   ]
  },
  {
   "cell_type": "code",
   "execution_count": 217,
   "metadata": {
    "colab": {
     "base_uri": "https://localhost:8080/",
     "height": 112
    },
    "id": "Gg7AWq6aD-D_",
    "outputId": "7f4f22de-2bfb-4c53-943b-2641c573c721"
   },
   "outputs": [
    {
     "data": {
      "text/html": [
       "<div>\n",
       "<style scoped>\n",
       "    .dataframe tbody tr th:only-of-type {\n",
       "        vertical-align: middle;\n",
       "    }\n",
       "\n",
       "    .dataframe tbody tr th {\n",
       "        vertical-align: top;\n",
       "    }\n",
       "\n",
       "    .dataframe thead th {\n",
       "        text-align: right;\n",
       "    }\n",
       "</style>\n",
       "<table border=\"1\" class=\"dataframe\">\n",
       "  <thead>\n",
       "    <tr style=\"text-align: right;\">\n",
       "      <th></th>\n",
       "      <th>Name</th>\n",
       "      <th>School</th>\n",
       "      <th>Difficulty Level</th>\n",
       "      <th>Rating</th>\n",
       "      <th>Link</th>\n",
       "      <th>About</th>\n",
       "    </tr>\n",
       "  </thead>\n",
       "  <tbody>\n",
       "    <tr>\n",
       "      <th>0</th>\n",
       "      <td>Data Engineer</td>\n",
       "      <td>School of Data Science</td>\n",
       "      <td>Intermediate</td>\n",
       "      <td>4.6</td>\n",
       "      <td>https://www.udacity.com//course/data-engineer-...</td>\n",
       "      <td>Data Engineering is the foundation for the new...</td>\n",
       "    </tr>\n",
       "    <tr>\n",
       "      <th>1</th>\n",
       "      <td>Data Scientist</td>\n",
       "      <td>School of Data Science</td>\n",
       "      <td>Advanced</td>\n",
       "      <td>4.7</td>\n",
       "      <td>https://www.udacity.com//course/data-scientist...</td>\n",
       "      <td>Build effective machine learning models, run d...</td>\n",
       "    </tr>\n",
       "  </tbody>\n",
       "</table>\n",
       "</div>"
      ],
      "text/plain": [
       "             Name                  School Difficulty Level Rating  \\\n",
       "0   Data Engineer  School of Data Science     Intermediate    4.6   \n",
       "1  Data Scientist  School of Data Science         Advanced    4.7   \n",
       "\n",
       "                                                Link  \\\n",
       "0  https://www.udacity.com//course/data-engineer-...   \n",
       "1  https://www.udacity.com//course/data-scientist...   \n",
       "\n",
       "                                               About  \n",
       "0  Data Engineering is the foundation for the new...  \n",
       "1  Build effective machine learning models, run d...  "
      ]
     },
     "execution_count": 217,
     "metadata": {},
     "output_type": "execute_result"
    }
   ],
   "source": [
    "udacity.head(2)"
   ]
  },
  {
   "cell_type": "code",
   "execution_count": 218,
   "metadata": {},
   "outputs": [
    {
     "data": {
      "text/html": [
       "<div>\n",
       "<style scoped>\n",
       "    .dataframe tbody tr th:only-of-type {\n",
       "        vertical-align: middle;\n",
       "    }\n",
       "\n",
       "    .dataframe tbody tr th {\n",
       "        vertical-align: top;\n",
       "    }\n",
       "\n",
       "    .dataframe thead th {\n",
       "        text-align: right;\n",
       "    }\n",
       "</style>\n",
       "<table border=\"1\" class=\"dataframe\">\n",
       "  <thead>\n",
       "    <tr style=\"text-align: right;\">\n",
       "      <th></th>\n",
       "      <th>Name</th>\n",
       "      <th>School</th>\n",
       "      <th>Difficulty Level</th>\n",
       "      <th>Rating</th>\n",
       "      <th>Link</th>\n",
       "      <th>About</th>\n",
       "    </tr>\n",
       "  </thead>\n",
       "  <tbody>\n",
       "    <tr>\n",
       "      <th>0</th>\n",
       "      <td>Data Engineer</td>\n",
       "      <td>School of Data Science</td>\n",
       "      <td>Intermediate</td>\n",
       "      <td>4.6</td>\n",
       "      <td>https://www.udacity.com/course/data-engineer-n...</td>\n",
       "      <td>Data Engineering is the foundation for the new...</td>\n",
       "    </tr>\n",
       "    <tr>\n",
       "      <th>1</th>\n",
       "      <td>Data Scientist</td>\n",
       "      <td>School of Data Science</td>\n",
       "      <td>Advanced</td>\n",
       "      <td>4.7</td>\n",
       "      <td>https://www.udacity.com/course/data-scientist-...</td>\n",
       "      <td>Build effective machine learning models, run d...</td>\n",
       "    </tr>\n",
       "  </tbody>\n",
       "</table>\n",
       "</div>"
      ],
      "text/plain": [
       "             Name                  School Difficulty Level Rating  \\\n",
       "0   Data Engineer  School of Data Science     Intermediate    4.6   \n",
       "1  Data Scientist  School of Data Science         Advanced    4.7   \n",
       "\n",
       "                                                Link  \\\n",
       "0  https://www.udacity.com/course/data-engineer-n...   \n",
       "1  https://www.udacity.com/course/data-scientist-...   \n",
       "\n",
       "                                               About  \n",
       "0  Data Engineering is the foundation for the new...  \n",
       "1  Build effective machine learning models, run d...  "
      ]
     },
     "execution_count": 218,
     "metadata": {},
     "output_type": "execute_result"
    }
   ],
   "source": [
    "udacity['Link'] = [f\"{x.replace('https://www.udacity.com//course', 'https://www.udacity.com/course')}\" for x in udacity['Link']]\n",
    "udacity.head(2)"
   ]
  },
  {
   "cell_type": "code",
   "execution_count": 219,
   "metadata": {
    "colab": {
     "base_uri": "https://localhost:8080/"
    },
    "id": "FUvS6lW5EzLH",
    "outputId": "fe2d7039-55af-483f-c8fc-c8da1a089879"
   },
   "outputs": [
    {
     "data": {
      "text/plain": [
       "Name                object\n",
       "School              object\n",
       "Difficulty Level    object\n",
       "Rating              object\n",
       "Link                object\n",
       "About               object\n",
       "dtype: object"
      ]
     },
     "execution_count": 219,
     "metadata": {},
     "output_type": "execute_result"
    }
   ],
   "source": [
    "udacity.dtypes"
   ]
  },
  {
   "cell_type": "code",
   "execution_count": 220,
   "metadata": {
    "colab": {
     "base_uri": "https://localhost:8080/",
     "height": 112
    },
    "id": "esOlF_F4E2ZD",
    "outputId": "d7e9192a-ea59-4deb-8c35-aa2fd1ebb307"
   },
   "outputs": [
    {
     "data": {
      "text/html": [
       "<div>\n",
       "<style scoped>\n",
       "    .dataframe tbody tr th:only-of-type {\n",
       "        vertical-align: middle;\n",
       "    }\n",
       "\n",
       "    .dataframe tbody tr th {\n",
       "        vertical-align: top;\n",
       "    }\n",
       "\n",
       "    .dataframe thead th {\n",
       "        text-align: right;\n",
       "    }\n",
       "</style>\n",
       "<table border=\"1\" class=\"dataframe\">\n",
       "  <thead>\n",
       "    <tr style=\"text-align: right;\">\n",
       "      <th></th>\n",
       "      <th>CourseName</th>\n",
       "      <th>DifficultyLevel</th>\n",
       "      <th>CourseRating</th>\n",
       "      <th>UrlLink</th>\n",
       "      <th>CourseDescription</th>\n",
       "    </tr>\n",
       "  </thead>\n",
       "  <tbody>\n",
       "    <tr>\n",
       "      <th>0</th>\n",
       "      <td>Data Engineer</td>\n",
       "      <td>Intermediate</td>\n",
       "      <td>4.6</td>\n",
       "      <td>https://www.udacity.com/course/data-engineer-n...</td>\n",
       "      <td>Data Engineering is the foundation for the new...</td>\n",
       "    </tr>\n",
       "    <tr>\n",
       "      <th>1</th>\n",
       "      <td>Data Scientist</td>\n",
       "      <td>Advanced</td>\n",
       "      <td>4.7</td>\n",
       "      <td>https://www.udacity.com/course/data-scientist-...</td>\n",
       "      <td>Build effective machine learning models, run d...</td>\n",
       "    </tr>\n",
       "  </tbody>\n",
       "</table>\n",
       "</div>"
      ],
      "text/plain": [
       "       CourseName DifficultyLevel CourseRating  \\\n",
       "0   Data Engineer    Intermediate          4.6   \n",
       "1  Data Scientist        Advanced          4.7   \n",
       "\n",
       "                                             UrlLink  \\\n",
       "0  https://www.udacity.com/course/data-engineer-n...   \n",
       "1  https://www.udacity.com/course/data-scientist-...   \n",
       "\n",
       "                                   CourseDescription  \n",
       "0  Data Engineering is the foundation for the new...  \n",
       "1  Build effective machine learning models, run d...  "
      ]
     },
     "execution_count": 220,
     "metadata": {},
     "output_type": "execute_result"
    }
   ],
   "source": [
    "udacity.rename(columns={'Name': 'CourseName',\n",
    "                 'Difficulty Level': 'DifficultyLevel',\n",
    "                 'Rating': 'CourseRating',\n",
    "                 'Link': 'UrlLink',\n",
    "                 'About': 'CourseDescription'}, inplace=True)\n",
    "udacity=udacity.drop('School', axis=1)\n",
    "udacity['Competencies'] = ''\n",
    "udacity.head(2)"
   ]
  },
  {
   "cell_type": "code",
   "execution_count": 221,
   "metadata": {
    "id": "Iw7fTnAEeF5s"
   },
   "outputs": [],
   "source": [
    "final_df = pd.concat([final_df, udacity])\n",
    "final_df.reset_index(inplace=True, drop=True)"
   ]
  },
  {
   "cell_type": "code",
   "execution_count": 222,
   "metadata": {
    "colab": {
     "base_uri": "https://localhost:8080/",
     "height": 191
    },
    "id": "zdFgvd_weJ6m",
    "outputId": "a7df3b7f-3d46-427d-dea9-91eb740f4541"
   },
   "outputs": [
    {
     "data": {
      "text/html": [
       "<div>\n",
       "<style scoped>\n",
       "    .dataframe tbody tr th:only-of-type {\n",
       "        vertical-align: middle;\n",
       "    }\n",
       "\n",
       "    .dataframe tbody tr th {\n",
       "        vertical-align: top;\n",
       "    }\n",
       "\n",
       "    .dataframe thead th {\n",
       "        text-align: right;\n",
       "    }\n",
       "</style>\n",
       "<table border=\"1\" class=\"dataframe\">\n",
       "  <thead>\n",
       "    <tr style=\"text-align: right;\">\n",
       "      <th></th>\n",
       "      <th>CourseName</th>\n",
       "      <th>CourseDescription</th>\n",
       "      <th>Competencies</th>\n",
       "      <th>DifficultyLevel</th>\n",
       "      <th>CourseRating</th>\n",
       "      <th>UrlLink</th>\n",
       "    </tr>\n",
       "  </thead>\n",
       "  <tbody>\n",
       "    <tr>\n",
       "      <th>0</th>\n",
       "      <td>Write A Feature Length Screenplay For Film Or ...</td>\n",
       "      <td>Write a Full Length Feature Film Script  In th...</td>\n",
       "      <td>Drama  Comedy  peering  screenwriting  film  D...</td>\n",
       "      <td>Beginner</td>\n",
       "      <td>4.8</td>\n",
       "      <td>https://www.coursera.org/learn/write-a-feature...</td>\n",
       "    </tr>\n",
       "    <tr>\n",
       "      <th>1</th>\n",
       "      <td>Business Strategy: Business Model Canvas Analy...</td>\n",
       "      <td>By the end of this guided project, you will be...</td>\n",
       "      <td>Finance  business plan  persona (user experien...</td>\n",
       "      <td>Beginner</td>\n",
       "      <td>4.8</td>\n",
       "      <td>https://www.coursera.org/learn/canvas-analysis...</td>\n",
       "    </tr>\n",
       "  </tbody>\n",
       "</table>\n",
       "</div>"
      ],
      "text/plain": [
       "                                          CourseName  \\\n",
       "0  Write A Feature Length Screenplay For Film Or ...   \n",
       "1  Business Strategy: Business Model Canvas Analy...   \n",
       "\n",
       "                                   CourseDescription  \\\n",
       "0  Write a Full Length Feature Film Script  In th...   \n",
       "1  By the end of this guided project, you will be...   \n",
       "\n",
       "                                        Competencies DifficultyLevel  \\\n",
       "0  Drama  Comedy  peering  screenwriting  film  D...        Beginner   \n",
       "1  Finance  business plan  persona (user experien...        Beginner   \n",
       "\n",
       "  CourseRating                                            UrlLink  \n",
       "0          4.8  https://www.coursera.org/learn/write-a-feature...  \n",
       "1          4.8  https://www.coursera.org/learn/canvas-analysis...  "
      ]
     },
     "execution_count": 222,
     "metadata": {},
     "output_type": "execute_result"
    }
   ],
   "source": [
    "final_df.head(2)"
   ]
  },
  {
   "cell_type": "code",
   "execution_count": 223,
   "metadata": {
    "colab": {
     "base_uri": "https://localhost:8080/"
    },
    "id": "xE7wrBXPfcuo",
    "outputId": "a0bb28dd-f4ad-4f3e-eba2-6053a06f3ce6"
   },
   "outputs": [
    {
     "name": "stdout",
     "output_type": "stream",
     "text": [
      "Length of final df is:  3785  rows\n"
     ]
    }
   ],
   "source": [
    "print(\"Length of final df is: \", len(final_df), \" rows\")"
   ]
  },
  {
   "cell_type": "markdown",
   "metadata": {},
   "source": [
    "# Udemy CSV "
   ]
  },
  {
   "cell_type": "code",
   "execution_count": 224,
   "metadata": {},
   "outputs": [
    {
     "name": "stdout",
     "output_type": "stream",
     "text": [
      "Empty DataFrame\n",
      "Columns: [CourseName, CourseDescription, Competencies, DifficultyLevel, CourseRating, UrlLink]\n",
      "Index: []\n"
     ]
    }
   ],
   "source": [
    "# create an Empty DataFrame\n",
    "# object With column names only\n",
    "udemyDf = pd.DataFrame(columns = ['CourseName', 'CourseDescription', 'Competencies', 'DifficultyLevel', 'CourseRating', 'UrlLink'])\n",
    "print(udemyDf)"
   ]
  },
  {
   "cell_type": "markdown",
   "metadata": {
    "id": "pNNvHhW4hzkg"
   },
   "source": [
    "### View Udemy Business CSV file "
   ]
  },
  {
   "cell_type": "code",
   "execution_count": 225,
   "metadata": {
    "colab": {
     "base_uri": "https://localhost:8080/",
     "height": 112
    },
    "id": "3HM1vz4uhyrh",
    "outputId": "23cc477e-e521-4d6f-b90c-833375b03d9b"
   },
   "outputs": [
    {
     "data": {
      "text/html": [
       "<div>\n",
       "<style scoped>\n",
       "    .dataframe tbody tr th:only-of-type {\n",
       "        vertical-align: middle;\n",
       "    }\n",
       "\n",
       "    .dataframe tbody tr th {\n",
       "        vertical-align: top;\n",
       "    }\n",
       "\n",
       "    .dataframe thead th {\n",
       "        text-align: right;\n",
       "    }\n",
       "</style>\n",
       "<table border=\"1\" class=\"dataframe\">\n",
       "  <thead>\n",
       "    <tr style=\"text-align: right;\">\n",
       "      <th></th>\n",
       "      <th>index</th>\n",
       "      <th>Title</th>\n",
       "      <th>Summary</th>\n",
       "      <th>Enrollment</th>\n",
       "      <th>Stars</th>\n",
       "      <th>Rating</th>\n",
       "      <th>Link</th>\n",
       "    </tr>\n",
       "  </thead>\n",
       "  <tbody>\n",
       "    <tr>\n",
       "      <th>0</th>\n",
       "      <td>0</td>\n",
       "      <td>The Complete SQL Bootcamp 2020: Go from Zero t...</td>\n",
       "      <td>Become an expert at SQL!</td>\n",
       "      <td>301243</td>\n",
       "      <td>4.7</td>\n",
       "      <td>79919</td>\n",
       "      <td>https://www.udemy.com/course/the-complete-sql-...</td>\n",
       "    </tr>\n",
       "    <tr>\n",
       "      <th>1</th>\n",
       "      <td>1</td>\n",
       "      <td>Tableau 2020 A-Z: Hands-On Tableau Training fo...</td>\n",
       "      <td>Learn Tableau 2020 for data science step by st...</td>\n",
       "      <td>211674</td>\n",
       "      <td>4.6</td>\n",
       "      <td>55582</td>\n",
       "      <td>https://www.udemy.com/course/tableau10/</td>\n",
       "    </tr>\n",
       "  </tbody>\n",
       "</table>\n",
       "</div>"
      ],
      "text/plain": [
       "   index                                              Title  \\\n",
       "0      0  The Complete SQL Bootcamp 2020: Go from Zero t...   \n",
       "1      1  Tableau 2020 A-Z: Hands-On Tableau Training fo...   \n",
       "\n",
       "                                             Summary  Enrollment  Stars  \\\n",
       "0                           Become an expert at SQL!      301243    4.7   \n",
       "1  Learn Tableau 2020 for data science step by st...      211674    4.6   \n",
       "\n",
       "   Rating                                               Link  \n",
       "0   79919  https://www.udemy.com/course/the-complete-sql-...  \n",
       "1   55582            https://www.udemy.com/course/tableau10/  "
      ]
     },
     "execution_count": 225,
     "metadata": {},
     "output_type": "execute_result"
    }
   ],
   "source": [
    "udemyBusiness.head(2)"
   ]
  },
  {
   "cell_type": "code",
   "execution_count": 226,
   "metadata": {
    "id": "6VsrFQyGiQtT"
   },
   "outputs": [],
   "source": [
    "udemyBusiness.rename(columns={'Title': 'CourseName',\n",
    "                 'Stars': 'CourseRating',\n",
    "                 'Link': 'UrlLink',\n",
    "                 'Summary': 'CourseDescription' }, inplace=True)\n",
    "udemyBusiness=udemyBusiness.drop(['index', 'Enrollment','Rating'], axis=1)\n",
    "udemyBusiness['Competencies'] = ''\n",
    "udemyBusiness['DifficultyLevel'] = ''"
   ]
  },
  {
   "cell_type": "code",
   "execution_count": 227,
   "metadata": {},
   "outputs": [],
   "source": [
    "udemyDf = pd.concat([udemyDf, udemyBusiness])\n",
    "udemyDf.reset_index(inplace=True, drop=True)"
   ]
  },
  {
   "cell_type": "code",
   "execution_count": 228,
   "metadata": {},
   "outputs": [
    {
     "data": {
      "text/html": [
       "<div>\n",
       "<style scoped>\n",
       "    .dataframe tbody tr th:only-of-type {\n",
       "        vertical-align: middle;\n",
       "    }\n",
       "\n",
       "    .dataframe tbody tr th {\n",
       "        vertical-align: top;\n",
       "    }\n",
       "\n",
       "    .dataframe thead th {\n",
       "        text-align: right;\n",
       "    }\n",
       "</style>\n",
       "<table border=\"1\" class=\"dataframe\">\n",
       "  <thead>\n",
       "    <tr style=\"text-align: right;\">\n",
       "      <th></th>\n",
       "      <th>CourseName</th>\n",
       "      <th>CourseDescription</th>\n",
       "      <th>Competencies</th>\n",
       "      <th>DifficultyLevel</th>\n",
       "      <th>CourseRating</th>\n",
       "      <th>UrlLink</th>\n",
       "    </tr>\n",
       "  </thead>\n",
       "  <tbody>\n",
       "    <tr>\n",
       "      <th>0</th>\n",
       "      <td>The Complete SQL Bootcamp 2020: Go from Zero t...</td>\n",
       "      <td>Become an expert at SQL!</td>\n",
       "      <td>NaN</td>\n",
       "      <td>NaN</td>\n",
       "      <td>4.7</td>\n",
       "      <td>https://www.udemy.com/course/the-complete-sql-...</td>\n",
       "    </tr>\n",
       "    <tr>\n",
       "      <th>1</th>\n",
       "      <td>Tableau 2020 A-Z: Hands-On Tableau Training fo...</td>\n",
       "      <td>Learn Tableau 2020 for data science step by st...</td>\n",
       "      <td>NaN</td>\n",
       "      <td>NaN</td>\n",
       "      <td>4.6</td>\n",
       "      <td>https://www.udemy.com/course/tableau10/</td>\n",
       "    </tr>\n",
       "    <tr>\n",
       "      <th>2</th>\n",
       "      <td>PMP Exam Prep Seminar - PMBOK Guide 6</td>\n",
       "      <td>PMP Exam Prep Seminar - Earn 35 PDUs by comple...</td>\n",
       "      <td>NaN</td>\n",
       "      <td>NaN</td>\n",
       "      <td>4.6</td>\n",
       "      <td>https://www.udemy.com/course/pmp-pmbok6-35-pdus/</td>\n",
       "    </tr>\n",
       "    <tr>\n",
       "      <th>3</th>\n",
       "      <td>The Complete Financial Analyst Course 2020</td>\n",
       "      <td>Excel, Accounting, Financial Statement Analysi...</td>\n",
       "      <td>NaN</td>\n",
       "      <td>NaN</td>\n",
       "      <td>4.5</td>\n",
       "      <td>https://www.udemy.com/course/the-complete-fina...</td>\n",
       "    </tr>\n",
       "    <tr>\n",
       "      <th>4</th>\n",
       "      <td>An Entire MBA in 1 Course:Award Winning Busine...</td>\n",
       "      <td>** #1 Best Selling Business Course! ** Everyth...</td>\n",
       "      <td>NaN</td>\n",
       "      <td>NaN</td>\n",
       "      <td>4.5</td>\n",
       "      <td>https://www.udemy.com/course/an-entire-mba-in-...</td>\n",
       "    </tr>\n",
       "    <tr>\n",
       "      <th>...</th>\n",
       "      <td>...</td>\n",
       "      <td>...</td>\n",
       "      <td>...</td>\n",
       "      <td>...</td>\n",
       "      <td>...</td>\n",
       "      <td>...</td>\n",
       "    </tr>\n",
       "    <tr>\n",
       "      <th>9965</th>\n",
       "      <td>Business Basics for Professional Entrepreneurs</td>\n",
       "      <td>Switch Your Thinking from Employee to Entrepre...</td>\n",
       "      <td>NaN</td>\n",
       "      <td>NaN</td>\n",
       "      <td>5.0</td>\n",
       "      <td>https://www.udemy.com/course/what-everybody-ou...</td>\n",
       "    </tr>\n",
       "    <tr>\n",
       "      <th>9966</th>\n",
       "      <td>How to Trend on Skillshare without Followers</td>\n",
       "      <td>Step by Step Guide how anyone can trend and be...</td>\n",
       "      <td>NaN</td>\n",
       "      <td>NaN</td>\n",
       "      <td>5.0</td>\n",
       "      <td>https://www.udemy.com/course/how-to-trend-on-s...</td>\n",
       "    </tr>\n",
       "    <tr>\n",
       "      <th>9967</th>\n",
       "      <td>Betting Basics - How to become profitable on s...</td>\n",
       "      <td>Learn the basics of sportsbetting and how you ...</td>\n",
       "      <td>NaN</td>\n",
       "      <td>NaN</td>\n",
       "      <td>5.0</td>\n",
       "      <td>https://www.udemy.com/course/betting-basics/</td>\n",
       "    </tr>\n",
       "    <tr>\n",
       "      <th>9968</th>\n",
       "      <td>Level 1 2014 CFA® Program – Corporate Finance</td>\n",
       "      <td>Level 1 2014 CFA® Program [Jun and Dec 2014 Ex...</td>\n",
       "      <td>NaN</td>\n",
       "      <td>NaN</td>\n",
       "      <td>4.3</td>\n",
       "      <td>https://www.udemy.com/course/level-1-2014-cfa-...</td>\n",
       "    </tr>\n",
       "    <tr>\n",
       "      <th>9969</th>\n",
       "      <td>Storytelling In Business</td>\n",
       "      <td>See How Stories can Improve Presentations, Mee...</td>\n",
       "      <td>NaN</td>\n",
       "      <td>NaN</td>\n",
       "      <td>3.3</td>\n",
       "      <td>https://www.udemy.com/course/storytelling-in-b...</td>\n",
       "    </tr>\n",
       "  </tbody>\n",
       "</table>\n",
       "<p>9970 rows × 6 columns</p>\n",
       "</div>"
      ],
      "text/plain": [
       "                                             CourseName  \\\n",
       "0     The Complete SQL Bootcamp 2020: Go from Zero t...   \n",
       "1     Tableau 2020 A-Z: Hands-On Tableau Training fo...   \n",
       "2                 PMP Exam Prep Seminar - PMBOK Guide 6   \n",
       "3            The Complete Financial Analyst Course 2020   \n",
       "4     An Entire MBA in 1 Course:Award Winning Busine...   \n",
       "...                                                 ...   \n",
       "9965     Business Basics for Professional Entrepreneurs   \n",
       "9966       How to Trend on Skillshare without Followers   \n",
       "9967  Betting Basics - How to become profitable on s...   \n",
       "9968      Level 1 2014 CFA® Program – Corporate Finance   \n",
       "9969                           Storytelling In Business   \n",
       "\n",
       "                                      CourseDescription Competencies  \\\n",
       "0                              Become an expert at SQL!          NaN   \n",
       "1     Learn Tableau 2020 for data science step by st...          NaN   \n",
       "2     PMP Exam Prep Seminar - Earn 35 PDUs by comple...          NaN   \n",
       "3     Excel, Accounting, Financial Statement Analysi...          NaN   \n",
       "4     ** #1 Best Selling Business Course! ** Everyth...          NaN   \n",
       "...                                                 ...          ...   \n",
       "9965  Switch Your Thinking from Employee to Entrepre...          NaN   \n",
       "9966  Step by Step Guide how anyone can trend and be...          NaN   \n",
       "9967  Learn the basics of sportsbetting and how you ...          NaN   \n",
       "9968  Level 1 2014 CFA® Program [Jun and Dec 2014 Ex...          NaN   \n",
       "9969  See How Stories can Improve Presentations, Mee...          NaN   \n",
       "\n",
       "     DifficultyLevel CourseRating  \\\n",
       "0                NaN          4.7   \n",
       "1                NaN          4.6   \n",
       "2                NaN          4.6   \n",
       "3                NaN          4.5   \n",
       "4                NaN          4.5   \n",
       "...              ...          ...   \n",
       "9965             NaN          5.0   \n",
       "9966             NaN          5.0   \n",
       "9967             NaN          5.0   \n",
       "9968             NaN          4.3   \n",
       "9969             NaN          3.3   \n",
       "\n",
       "                                                UrlLink  \n",
       "0     https://www.udemy.com/course/the-complete-sql-...  \n",
       "1               https://www.udemy.com/course/tableau10/  \n",
       "2      https://www.udemy.com/course/pmp-pmbok6-35-pdus/  \n",
       "3     https://www.udemy.com/course/the-complete-fina...  \n",
       "4     https://www.udemy.com/course/an-entire-mba-in-...  \n",
       "...                                                 ...  \n",
       "9965  https://www.udemy.com/course/what-everybody-ou...  \n",
       "9966  https://www.udemy.com/course/how-to-trend-on-s...  \n",
       "9967       https://www.udemy.com/course/betting-basics/  \n",
       "9968  https://www.udemy.com/course/level-1-2014-cfa-...  \n",
       "9969  https://www.udemy.com/course/storytelling-in-b...  \n",
       "\n",
       "[9970 rows x 6 columns]"
      ]
     },
     "execution_count": 228,
     "metadata": {},
     "output_type": "execute_result"
    }
   ],
   "source": [
    "udemyDf"
   ]
  },
  {
   "cell_type": "code",
   "execution_count": 229,
   "metadata": {
    "scrolled": true
   },
   "outputs": [
    {
     "name": "stdout",
     "output_type": "stream",
     "text": [
      "Length of final df is:  9970  rows\n"
     ]
    }
   ],
   "source": [
    "print(\"Length of Udemy df is: \", len(udemyDf), \" rows\")"
   ]
  },
  {
   "cell_type": "markdown",
   "metadata": {
    "id": "wPLKUdUNvkSQ"
   },
   "source": [
    "### View Udemy Tech CSV file "
   ]
  },
  {
   "cell_type": "code",
   "execution_count": 131,
   "metadata": {
    "colab": {
     "base_uri": "https://localhost:8080/",
     "height": 112
    },
    "id": "r_d7_DILvhGx",
    "outputId": "a0ea153a-791c-438c-e5fd-d69a4e00d30b"
   },
   "outputs": [
    {
     "data": {
      "text/html": [
       "<div>\n",
       "<style scoped>\n",
       "    .dataframe tbody tr th:only-of-type {\n",
       "        vertical-align: middle;\n",
       "    }\n",
       "\n",
       "    .dataframe tbody tr th {\n",
       "        vertical-align: top;\n",
       "    }\n",
       "\n",
       "    .dataframe thead th {\n",
       "        text-align: right;\n",
       "    }\n",
       "</style>\n",
       "<table border=\"1\" class=\"dataframe\">\n",
       "  <thead>\n",
       "    <tr style=\"text-align: right;\">\n",
       "      <th></th>\n",
       "      <th>index</th>\n",
       "      <th>Title</th>\n",
       "      <th>Summary</th>\n",
       "      <th>Enrollment</th>\n",
       "      <th>Stars</th>\n",
       "      <th>Rating</th>\n",
       "      <th>Link</th>\n",
       "    </tr>\n",
       "  </thead>\n",
       "  <tbody>\n",
       "    <tr>\n",
       "      <th>0</th>\n",
       "      <td>0</td>\n",
       "      <td>2020 Complete Python Bootcamp: From Zero to He...</td>\n",
       "      <td>Learn Python like a Professional! Start from t...</td>\n",
       "      <td>1100093</td>\n",
       "      <td>4.6</td>\n",
       "      <td>318066</td>\n",
       "      <td>https://www.udemy.com/course/complete-python-b...</td>\n",
       "    </tr>\n",
       "    <tr>\n",
       "      <th>1</th>\n",
       "      <td>1</td>\n",
       "      <td>The Web Developer Bootcamp</td>\n",
       "      <td>The only course you need to learn web developm...</td>\n",
       "      <td>596726</td>\n",
       "      <td>4.6</td>\n",
       "      <td>182997</td>\n",
       "      <td>https://www.udemy.com/course/the-web-developer...</td>\n",
       "    </tr>\n",
       "  </tbody>\n",
       "</table>\n",
       "</div>"
      ],
      "text/plain": [
       "   index                                              Title  \\\n",
       "0      0  2020 Complete Python Bootcamp: From Zero to He...   \n",
       "1      1                         The Web Developer Bootcamp   \n",
       "\n",
       "                                             Summary  Enrollment  Stars  \\\n",
       "0  Learn Python like a Professional! Start from t...     1100093    4.6   \n",
       "1  The only course you need to learn web developm...      596726    4.6   \n",
       "\n",
       "   Rating                                               Link  \n",
       "0  318066  https://www.udemy.com/course/complete-python-b...  \n",
       "1  182997  https://www.udemy.com/course/the-web-developer...  "
      ]
     },
     "execution_count": 131,
     "metadata": {},
     "output_type": "execute_result"
    }
   ],
   "source": [
    "udemyTech.head(2)"
   ]
  },
  {
   "cell_type": "code",
   "execution_count": 132,
   "metadata": {
    "id": "60ntjaFiwYpJ"
   },
   "outputs": [],
   "source": [
    "udemyTech.rename(columns={'Title': 'CourseName',\n",
    "                 'Stars': 'CourseRating',\n",
    "                 'Link': 'UrlLink',\n",
    "                 'Summary': 'CourseDescription' }, inplace=True)\n",
    "udemyTech=udemyTech.drop(['index', 'Enrollment','Rating'], axis=1)"
   ]
  },
  {
   "cell_type": "markdown",
   "metadata": {
    "id": "JLi0q1aHx1jL"
   },
   "source": [
    "### View Udemy IT Software CSV file "
   ]
  },
  {
   "cell_type": "code",
   "execution_count": 135,
   "metadata": {
    "colab": {
     "base_uri": "https://localhost:8080/",
     "height": 112
    },
    "id": "ATi4IiBZygM-",
    "outputId": "7e331e64-62c1-43fd-83d0-96a2892af4ed"
   },
   "outputs": [
    {
     "data": {
      "text/html": [
       "<div>\n",
       "<style scoped>\n",
       "    .dataframe tbody tr th:only-of-type {\n",
       "        vertical-align: middle;\n",
       "    }\n",
       "\n",
       "    .dataframe tbody tr th {\n",
       "        vertical-align: top;\n",
       "    }\n",
       "\n",
       "    .dataframe thead th {\n",
       "        text-align: right;\n",
       "    }\n",
       "</style>\n",
       "<table border=\"1\" class=\"dataframe\">\n",
       "  <thead>\n",
       "    <tr style=\"text-align: right;\">\n",
       "      <th></th>\n",
       "      <th>id</th>\n",
       "      <th>title</th>\n",
       "      <th>url</th>\n",
       "      <th>num_subscribers</th>\n",
       "      <th>avg_rating</th>\n",
       "      <th>avg_rating_recent</th>\n",
       "      <th>rating</th>\n",
       "    </tr>\n",
       "  </thead>\n",
       "  <tbody>\n",
       "    <tr>\n",
       "      <th>0</th>\n",
       "      <td>762616</td>\n",
       "      <td>The Complete SQL Bootcamp 2020: Go from Zero t...</td>\n",
       "      <td>/course/the-complete-sql-bootcamp/</td>\n",
       "      <td>295509</td>\n",
       "      <td>4.66019</td>\n",
       "      <td>4.67874</td>\n",
       "      <td>4.67874</td>\n",
       "    </tr>\n",
       "    <tr>\n",
       "      <th>1</th>\n",
       "      <td>937678</td>\n",
       "      <td>Tableau 2020 A-Z: Hands-On Tableau Training fo...</td>\n",
       "      <td>/course/tableau10/</td>\n",
       "      <td>209070</td>\n",
       "      <td>4.58956</td>\n",
       "      <td>4.60015</td>\n",
       "      <td>4.60015</td>\n",
       "    </tr>\n",
       "  </tbody>\n",
       "</table>\n",
       "</div>"
      ],
      "text/plain": [
       "       id                                              title  \\\n",
       "0  762616  The Complete SQL Bootcamp 2020: Go from Zero t...   \n",
       "1  937678  Tableau 2020 A-Z: Hands-On Tableau Training fo...   \n",
       "\n",
       "                                  url  num_subscribers  avg_rating  \\\n",
       "0  /course/the-complete-sql-bootcamp/           295509     4.66019   \n",
       "1                  /course/tableau10/           209070     4.58956   \n",
       "\n",
       "   avg_rating_recent   rating  \n",
       "0            4.67874  4.67874  \n",
       "1            4.60015  4.60015  "
      ]
     },
     "execution_count": 135,
     "metadata": {},
     "output_type": "execute_result"
    }
   ],
   "source": [
    "udemyITSoftware.head(2)"
   ]
  },
  {
   "cell_type": "code",
   "execution_count": 136,
   "metadata": {},
   "outputs": [
    {
     "data": {
      "text/html": [
       "<div>\n",
       "<style scoped>\n",
       "    .dataframe tbody tr th:only-of-type {\n",
       "        vertical-align: middle;\n",
       "    }\n",
       "\n",
       "    .dataframe tbody tr th {\n",
       "        vertical-align: top;\n",
       "    }\n",
       "\n",
       "    .dataframe thead th {\n",
       "        text-align: right;\n",
       "    }\n",
       "</style>\n",
       "<table border=\"1\" class=\"dataframe\">\n",
       "  <thead>\n",
       "    <tr style=\"text-align: right;\">\n",
       "      <th></th>\n",
       "      <th>id</th>\n",
       "      <th>title</th>\n",
       "      <th>url</th>\n",
       "      <th>num_subscribers</th>\n",
       "      <th>avg_rating</th>\n",
       "      <th>avg_rating_recent</th>\n",
       "      <th>rating</th>\n",
       "    </tr>\n",
       "  </thead>\n",
       "  <tbody>\n",
       "    <tr>\n",
       "      <th>0</th>\n",
       "      <td>762616</td>\n",
       "      <td>The Complete SQL Bootcamp 2020: Go from Zero t...</td>\n",
       "      <td>https://www.udemy.com/course/the-complete-sql-...</td>\n",
       "      <td>295509</td>\n",
       "      <td>4.66019</td>\n",
       "      <td>4.67874</td>\n",
       "      <td>4.67874</td>\n",
       "    </tr>\n",
       "    <tr>\n",
       "      <th>1</th>\n",
       "      <td>937678</td>\n",
       "      <td>Tableau 2020 A-Z: Hands-On Tableau Training fo...</td>\n",
       "      <td>https://www.udemy.com/course/tableau10/</td>\n",
       "      <td>209070</td>\n",
       "      <td>4.58956</td>\n",
       "      <td>4.60015</td>\n",
       "      <td>4.60015</td>\n",
       "    </tr>\n",
       "  </tbody>\n",
       "</table>\n",
       "</div>"
      ],
      "text/plain": [
       "       id                                              title  \\\n",
       "0  762616  The Complete SQL Bootcamp 2020: Go from Zero t...   \n",
       "1  937678  Tableau 2020 A-Z: Hands-On Tableau Training fo...   \n",
       "\n",
       "                                                 url  num_subscribers  \\\n",
       "0  https://www.udemy.com/course/the-complete-sql-...           295509   \n",
       "1            https://www.udemy.com/course/tableau10/           209070   \n",
       "\n",
       "   avg_rating  avg_rating_recent   rating  \n",
       "0     4.66019            4.67874  4.67874  \n",
       "1     4.58956            4.60015  4.60015  "
      ]
     },
     "execution_count": 136,
     "metadata": {},
     "output_type": "execute_result"
    }
   ],
   "source": [
    "udemyITSoftware['url'] = [f\"{x.replace('/course', 'https://www.udemy.com/course')}\" for x in udemyITSoftware['url']]\n",
    "udemyITSoftware.head(2)"
   ]
  },
  {
   "cell_type": "code",
   "execution_count": 137,
   "metadata": {
    "colab": {
     "base_uri": "https://localhost:8080/",
     "height": 345
    },
    "id": "o4noLS36y3CG",
    "outputId": "a49007bb-c678-4820-bd64-913d44e43594"
   },
   "outputs": [],
   "source": [
    "udemyITSoftware.rename(columns={'title': 'CourseName',\n",
    "                 'rating': 'CourseRating',\n",
    "                 'url': 'UrlLink' }, inplace=True)\n",
    "udemyITSoftware=udemyITSoftware.drop(['id', 'num_subscribers','avg_rating', 'avg_rating_recent'], axis=1)"
   ]
  },
  {
   "cell_type": "code",
   "execution_count": 138,
   "metadata": {},
   "outputs": [],
   "source": [
    "resultITSoftware = pd.merge(udemyITSoftware, udemyCourses, how=\"outer\", on=[\"UrlLink\"])"
   ]
  },
  {
   "cell_type": "code",
   "execution_count": 139,
   "metadata": {
    "colab": {
     "base_uri": "https://localhost:8080/",
     "height": 101
    },
    "id": "FoOxvvxfzvtX",
    "outputId": "5cd4829a-8908-4d33-c305-92a3b71c4126",
    "scrolled": true
   },
   "outputs": [
    {
     "name": "stdout",
     "output_type": "stream",
     "text": [
      "udemyCourses  3678\n",
      "udemyITSoftware  22853\n",
      "result  25684\n"
     ]
    },
    {
     "data": {
      "text/html": [
       "<div>\n",
       "<style scoped>\n",
       "    .dataframe tbody tr th:only-of-type {\n",
       "        vertical-align: middle;\n",
       "    }\n",
       "\n",
       "    .dataframe tbody tr th {\n",
       "        vertical-align: top;\n",
       "    }\n",
       "\n",
       "    .dataframe thead th {\n",
       "        text-align: right;\n",
       "    }\n",
       "</style>\n",
       "<table border=\"1\" class=\"dataframe\">\n",
       "  <thead>\n",
       "    <tr style=\"text-align: right;\">\n",
       "      <th></th>\n",
       "      <th>CourseName_x</th>\n",
       "      <th>UrlLink</th>\n",
       "      <th>CourseRating</th>\n",
       "      <th>CourseName_y</th>\n",
       "      <th>Difficulty Level</th>\n",
       "      <th>Competencies</th>\n",
       "    </tr>\n",
       "  </thead>\n",
       "  <tbody>\n",
       "    <tr>\n",
       "      <th>0</th>\n",
       "      <td>The Complete SQL Bootcamp 2020: Go from Zero t...</td>\n",
       "      <td>https://www.udemy.com/course/the-complete-sql-...</td>\n",
       "      <td>4.67874</td>\n",
       "      <td>NaN</td>\n",
       "      <td>NaN</td>\n",
       "      <td>NaN</td>\n",
       "    </tr>\n",
       "    <tr>\n",
       "      <th>1</th>\n",
       "      <td>Tableau 2020 A-Z: Hands-On Tableau Training fo...</td>\n",
       "      <td>https://www.udemy.com/course/tableau10/</td>\n",
       "      <td>4.60015</td>\n",
       "      <td>NaN</td>\n",
       "      <td>NaN</td>\n",
       "      <td>NaN</td>\n",
       "    </tr>\n",
       "    <tr>\n",
       "      <th>2</th>\n",
       "      <td>PMP Exam Prep Seminar -  PMBOK Guide 6</td>\n",
       "      <td>https://www.udemy.com/course/pmp-pmbok6-35-pdus/</td>\n",
       "      <td>4.59326</td>\n",
       "      <td>NaN</td>\n",
       "      <td>NaN</td>\n",
       "      <td>NaN</td>\n",
       "    </tr>\n",
       "    <tr>\n",
       "      <th>3</th>\n",
       "      <td>The Complete Financial Analyst Course 2020</td>\n",
       "      <td>https://www.udemy.com/course/the-complete-fina...</td>\n",
       "      <td>4.53772</td>\n",
       "      <td>The Complete Financial Analyst Course 2017</td>\n",
       "      <td>All Levels</td>\n",
       "      <td>Business Finance</td>\n",
       "    </tr>\n",
       "    <tr>\n",
       "      <th>4</th>\n",
       "      <td>An Entire MBA in 1 Course:Award Winning Busine...</td>\n",
       "      <td>https://www.udemy.com/course/an-entire-mba-in-...</td>\n",
       "      <td>4.47173</td>\n",
       "      <td>NaN</td>\n",
       "      <td>NaN</td>\n",
       "      <td>NaN</td>\n",
       "    </tr>\n",
       "    <tr>\n",
       "      <th>...</th>\n",
       "      <td>...</td>\n",
       "      <td>...</td>\n",
       "      <td>...</td>\n",
       "      <td>...</td>\n",
       "      <td>...</td>\n",
       "      <td>...</td>\n",
       "    </tr>\n",
       "    <tr>\n",
       "      <th>25679</th>\n",
       "      <td>NaN</td>\n",
       "      <td>https://www.udemy.com/course/easy-jquery-for-b...</td>\n",
       "      <td>NaN</td>\n",
       "      <td>Learn jQuery from Scratch - Master of JavaScri...</td>\n",
       "      <td>All Levels</td>\n",
       "      <td>Web Development</td>\n",
       "    </tr>\n",
       "    <tr>\n",
       "      <th>25680</th>\n",
       "      <td>NaN</td>\n",
       "      <td>https://www.udemy.com/course/how-to-make-a-wor...</td>\n",
       "      <td>NaN</td>\n",
       "      <td>How To Design A WordPress Website With No Codi...</td>\n",
       "      <td>Beginner Level</td>\n",
       "      <td>Web Development</td>\n",
       "    </tr>\n",
       "    <tr>\n",
       "      <th>25681</th>\n",
       "      <td>NaN</td>\n",
       "      <td>https://www.udemy.com/course/learn-and-build-u...</td>\n",
       "      <td>NaN</td>\n",
       "      <td>Learn and Build using Polymer</td>\n",
       "      <td>All Levels</td>\n",
       "      <td>Web Development</td>\n",
       "    </tr>\n",
       "    <tr>\n",
       "      <th>25682</th>\n",
       "      <td>NaN</td>\n",
       "      <td>https://www.udemy.com/course/css-animations-cr...</td>\n",
       "      <td>NaN</td>\n",
       "      <td>CSS Animations: Create Amazing Effects on Your...</td>\n",
       "      <td>All Levels</td>\n",
       "      <td>Web Development</td>\n",
       "    </tr>\n",
       "    <tr>\n",
       "      <th>25683</th>\n",
       "      <td>NaN</td>\n",
       "      <td>https://www.udemy.com/course/using-modx-cms-to...</td>\n",
       "      <td>NaN</td>\n",
       "      <td>Using MODX CMS to Build Websites: A Beginner's...</td>\n",
       "      <td>Beginner Level</td>\n",
       "      <td>Web Development</td>\n",
       "    </tr>\n",
       "  </tbody>\n",
       "</table>\n",
       "<p>25684 rows × 6 columns</p>\n",
       "</div>"
      ],
      "text/plain": [
       "                                            CourseName_x  \\\n",
       "0      The Complete SQL Bootcamp 2020: Go from Zero t...   \n",
       "1      Tableau 2020 A-Z: Hands-On Tableau Training fo...   \n",
       "2                 PMP Exam Prep Seminar -  PMBOK Guide 6   \n",
       "3             The Complete Financial Analyst Course 2020   \n",
       "4      An Entire MBA in 1 Course:Award Winning Busine...   \n",
       "...                                                  ...   \n",
       "25679                                                NaN   \n",
       "25680                                                NaN   \n",
       "25681                                                NaN   \n",
       "25682                                                NaN   \n",
       "25683                                                NaN   \n",
       "\n",
       "                                                 UrlLink  CourseRating  \\\n",
       "0      https://www.udemy.com/course/the-complete-sql-...       4.67874   \n",
       "1                https://www.udemy.com/course/tableau10/       4.60015   \n",
       "2       https://www.udemy.com/course/pmp-pmbok6-35-pdus/       4.59326   \n",
       "3      https://www.udemy.com/course/the-complete-fina...       4.53772   \n",
       "4      https://www.udemy.com/course/an-entire-mba-in-...       4.47173   \n",
       "...                                                  ...           ...   \n",
       "25679  https://www.udemy.com/course/easy-jquery-for-b...           NaN   \n",
       "25680  https://www.udemy.com/course/how-to-make-a-wor...           NaN   \n",
       "25681  https://www.udemy.com/course/learn-and-build-u...           NaN   \n",
       "25682  https://www.udemy.com/course/css-animations-cr...           NaN   \n",
       "25683  https://www.udemy.com/course/using-modx-cms-to...           NaN   \n",
       "\n",
       "                                            CourseName_y Difficulty Level  \\\n",
       "0                                                    NaN              NaN   \n",
       "1                                                    NaN              NaN   \n",
       "2                                                    NaN              NaN   \n",
       "3             The Complete Financial Analyst Course 2017       All Levels   \n",
       "4                                                    NaN              NaN   \n",
       "...                                                  ...              ...   \n",
       "25679  Learn jQuery from Scratch - Master of JavaScri...       All Levels   \n",
       "25680  How To Design A WordPress Website With No Codi...   Beginner Level   \n",
       "25681                      Learn and Build using Polymer       All Levels   \n",
       "25682  CSS Animations: Create Amazing Effects on Your...       All Levels   \n",
       "25683  Using MODX CMS to Build Websites: A Beginner's...   Beginner Level   \n",
       "\n",
       "           Competencies  \n",
       "0                   NaN  \n",
       "1                   NaN  \n",
       "2                   NaN  \n",
       "3      Business Finance  \n",
       "4                   NaN  \n",
       "...                 ...  \n",
       "25679   Web Development  \n",
       "25680   Web Development  \n",
       "25681   Web Development  \n",
       "25682   Web Development  \n",
       "25683   Web Development  \n",
       "\n",
       "[25684 rows x 6 columns]"
      ]
     },
     "execution_count": 139,
     "metadata": {},
     "output_type": "execute_result"
    }
   ],
   "source": [
    "print(\"udemyCourses \", len(udemyCourses))\n",
    "print(\"udemyITSoftware \", len(udemyITSoftware))\n",
    "print(\"result \", len(resultITSoftware))\n",
    "resultITSoftware"
   ]
  },
  {
   "cell_type": "markdown",
   "metadata": {
    "id": "iOjRn_Btvuw5"
   },
   "source": [
    "# View Udemy View"
   ]
  },
  {
   "cell_type": "code",
   "execution_count": 156,
   "metadata": {
    "colab": {
     "base_uri": "https://localhost:8080/",
     "height": 191
    },
    "id": "4MTXGaBIl9Fh",
    "outputId": "2498db37-add6-4c97-dd94-6ba8e503471a"
   },
   "outputs": [
    {
     "data": {
      "text/html": [
       "<div>\n",
       "<style scoped>\n",
       "    .dataframe tbody tr th:only-of-type {\n",
       "        vertical-align: middle;\n",
       "    }\n",
       "\n",
       "    .dataframe tbody tr th {\n",
       "        vertical-align: top;\n",
       "    }\n",
       "\n",
       "    .dataframe thead th {\n",
       "        text-align: right;\n",
       "    }\n",
       "</style>\n",
       "<table border=\"1\" class=\"dataframe\">\n",
       "  <thead>\n",
       "    <tr style=\"text-align: right;\">\n",
       "      <th></th>\n",
       "      <th>course_id</th>\n",
       "      <th>course_title</th>\n",
       "      <th>url</th>\n",
       "      <th>is_paid</th>\n",
       "      <th>price</th>\n",
       "      <th>num_subscribers</th>\n",
       "      <th>num_reviews</th>\n",
       "      <th>num_lectures</th>\n",
       "      <th>level</th>\n",
       "      <th>content_duration</th>\n",
       "      <th>published_timestamp</th>\n",
       "      <th>subject</th>\n",
       "    </tr>\n",
       "  </thead>\n",
       "  <tbody>\n",
       "    <tr>\n",
       "      <th>0</th>\n",
       "      <td>1070968</td>\n",
       "      <td>Ultimate Investment Banking Course</td>\n",
       "      <td>https://www.udemy.com/ultimate-investment-bank...</td>\n",
       "      <td>True</td>\n",
       "      <td>200</td>\n",
       "      <td>2147</td>\n",
       "      <td>23</td>\n",
       "      <td>51</td>\n",
       "      <td>All Levels</td>\n",
       "      <td>1.5</td>\n",
       "      <td>2017-01-18T20:58:58Z</td>\n",
       "      <td>Business Finance</td>\n",
       "    </tr>\n",
       "    <tr>\n",
       "      <th>1</th>\n",
       "      <td>1113822</td>\n",
       "      <td>Complete GST Course &amp; Certification - Grow You...</td>\n",
       "      <td>https://www.udemy.com/goods-and-services-tax/</td>\n",
       "      <td>True</td>\n",
       "      <td>75</td>\n",
       "      <td>2792</td>\n",
       "      <td>923</td>\n",
       "      <td>274</td>\n",
       "      <td>All Levels</td>\n",
       "      <td>39.0</td>\n",
       "      <td>2017-03-09T16:34:20Z</td>\n",
       "      <td>Business Finance</td>\n",
       "    </tr>\n",
       "  </tbody>\n",
       "</table>\n",
       "</div>"
      ],
      "text/plain": [
       "   course_id                                       course_title  \\\n",
       "0    1070968                 Ultimate Investment Banking Course   \n",
       "1    1113822  Complete GST Course & Certification - Grow You...   \n",
       "\n",
       "                                                 url  is_paid  price  \\\n",
       "0  https://www.udemy.com/ultimate-investment-bank...     True    200   \n",
       "1      https://www.udemy.com/goods-and-services-tax/     True     75   \n",
       "\n",
       "   num_subscribers  num_reviews  num_lectures       level  content_duration  \\\n",
       "0             2147           23            51  All Levels               1.5   \n",
       "1             2792          923           274  All Levels              39.0   \n",
       "\n",
       "    published_timestamp           subject  \n",
       "0  2017-01-18T20:58:58Z  Business Finance  \n",
       "1  2017-03-09T16:34:20Z  Business Finance  "
      ]
     },
     "execution_count": 156,
     "metadata": {},
     "output_type": "execute_result"
    }
   ],
   "source": [
    "udemyCourses.head(2)"
   ]
  },
  {
   "cell_type": "code",
   "execution_count": 157,
   "metadata": {
    "id": "bf15Z9CI2kda"
   },
   "outputs": [
    {
     "data": {
      "text/html": [
       "<div>\n",
       "<style scoped>\n",
       "    .dataframe tbody tr th:only-of-type {\n",
       "        vertical-align: middle;\n",
       "    }\n",
       "\n",
       "    .dataframe tbody tr th {\n",
       "        vertical-align: top;\n",
       "    }\n",
       "\n",
       "    .dataframe thead th {\n",
       "        text-align: right;\n",
       "    }\n",
       "</style>\n",
       "<table border=\"1\" class=\"dataframe\">\n",
       "  <thead>\n",
       "    <tr style=\"text-align: right;\">\n",
       "      <th></th>\n",
       "      <th>course_id</th>\n",
       "      <th>course_title</th>\n",
       "      <th>url</th>\n",
       "      <th>is_paid</th>\n",
       "      <th>price</th>\n",
       "      <th>num_subscribers</th>\n",
       "      <th>num_reviews</th>\n",
       "      <th>num_lectures</th>\n",
       "      <th>level</th>\n",
       "      <th>content_duration</th>\n",
       "      <th>published_timestamp</th>\n",
       "      <th>subject</th>\n",
       "    </tr>\n",
       "  </thead>\n",
       "  <tbody>\n",
       "    <tr>\n",
       "      <th>0</th>\n",
       "      <td>1070968</td>\n",
       "      <td>Ultimate Investment Banking Course</td>\n",
       "      <td>https://www.udemy.com/course/ultimate-investme...</td>\n",
       "      <td>True</td>\n",
       "      <td>200</td>\n",
       "      <td>2147</td>\n",
       "      <td>23</td>\n",
       "      <td>51</td>\n",
       "      <td>All Levels</td>\n",
       "      <td>1.5</td>\n",
       "      <td>2017-01-18T20:58:58Z</td>\n",
       "      <td>Business Finance</td>\n",
       "    </tr>\n",
       "    <tr>\n",
       "      <th>1</th>\n",
       "      <td>1113822</td>\n",
       "      <td>Complete GST Course &amp; Certification - Grow You...</td>\n",
       "      <td>https://www.udemy.com/course/goods-and-service...</td>\n",
       "      <td>True</td>\n",
       "      <td>75</td>\n",
       "      <td>2792</td>\n",
       "      <td>923</td>\n",
       "      <td>274</td>\n",
       "      <td>All Levels</td>\n",
       "      <td>39.0</td>\n",
       "      <td>2017-03-09T16:34:20Z</td>\n",
       "      <td>Business Finance</td>\n",
       "    </tr>\n",
       "  </tbody>\n",
       "</table>\n",
       "</div>"
      ],
      "text/plain": [
       "   course_id                                       course_title  \\\n",
       "0    1070968                 Ultimate Investment Banking Course   \n",
       "1    1113822  Complete GST Course & Certification - Grow You...   \n",
       "\n",
       "                                                 url  is_paid  price  \\\n",
       "0  https://www.udemy.com/course/ultimate-investme...     True    200   \n",
       "1  https://www.udemy.com/course/goods-and-service...     True     75   \n",
       "\n",
       "   num_subscribers  num_reviews  num_lectures       level  content_duration  \\\n",
       "0             2147           23            51  All Levels               1.5   \n",
       "1             2792          923           274  All Levels              39.0   \n",
       "\n",
       "    published_timestamp           subject  \n",
       "0  2017-01-18T20:58:58Z  Business Finance  \n",
       "1  2017-03-09T16:34:20Z  Business Finance  "
      ]
     },
     "execution_count": 157,
     "metadata": {},
     "output_type": "execute_result"
    }
   ],
   "source": [
    "udemyCourses['url'] = [f\"{x.replace('https://www.udemy.com', 'https://www.udemy.com/course')}\" for x in udemyCourses['url']]\n",
    "udemyCourses.head(2)"
   ]
  },
  {
   "cell_type": "code",
   "execution_count": 158,
   "metadata": {
    "id": "TX5DULOtnPCy"
   },
   "outputs": [],
   "source": [
    "udemyCourses.rename(columns={'course_title': 'CourseName',\n",
    "                 'url': 'UrlLink',\n",
    "                 'subject': 'Competencies',\n",
    "                 'level': 'Difficulty Level'}, inplace=True)\n",
    "udemyCourses=udemyCourses.drop(['course_id', 'is_paid', 'price', 'num_subscribers','num_reviews','num_lectures','content_duration','published_timestamp'], axis=1)"
   ]
  },
  {
   "cell_type": "code",
   "execution_count": 159,
   "metadata": {
    "colab": {
     "base_uri": "https://localhost:8080/"
    },
    "id": "CYOkQ2XTw40v",
    "outputId": "ff779535-1eae-412c-a374-e834747a77af",
    "scrolled": true
   },
   "outputs": [
    {
     "data": {
      "text/plain": [
       "CourseName          object\n",
       "UrlLink             object\n",
       "Difficulty Level    object\n",
       "Competencies        object\n",
       "dtype: object"
      ]
     },
     "execution_count": 159,
     "metadata": {},
     "output_type": "execute_result"
    }
   ],
   "source": [
    "udemyCourses.dtypes"
   ]
  }
 ],
 "metadata": {
  "colab": {
   "collapsed_sections": [
    "hRhyVzObD6n5"
   ],
   "name": "DigitalCV_CourseRecommendation.ipynb",
   "provenance": []
  },
  "kernelspec": {
   "display_name": "Python 3 (ipykernel)",
   "language": "python",
   "name": "python3"
  },
  "language_info": {
   "codemirror_mode": {
    "name": "ipython",
    "version": 3
   },
   "file_extension": ".py",
   "mimetype": "text/x-python",
   "name": "python",
   "nbconvert_exporter": "python",
   "pygments_lexer": "ipython3",
   "version": "3.9.12"
  }
 },
 "nbformat": 4,
 "nbformat_minor": 1
}
